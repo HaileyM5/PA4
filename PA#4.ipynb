{
 "cells": [
  {
   "cell_type": "markdown",
   "id": "741775b2",
   "metadata": {},
   "source": [
    "# PA2 Hailey Mueller\n",
    "## Version 1, Spring Semester"
   ]
  },
  {
   "cell_type": "code",
   "execution_count": null,
   "id": "2aa97239",
   "metadata": {},
   "outputs": [],
   "source": [
    "for number in range(0, 101):\n",
    "    print(number)\n",
    "for number in range(0,100,3):\n",
    "    print(number,\"*\")"
   ]
  },
  {
   "cell_type": "code",
   "execution_count": null,
   "id": "93d33187",
   "metadata": {},
   "outputs": [],
   "source": [
    "month=int(input(\"Enter a number 1-12: \"))\n",
    "\n",
    "if month==1:\n",
    "        print(\"January has 31 days\")\n",
    "if month==2:\n",
    "        print(\"February has 28 days\")\n",
    "if month==3:\n",
    "        print(\"March has 31 days\")\n",
    "if month==4:\n",
    "        print(\"April has 30 days\")\n",
    "if month==5:\n",
    "        print(\"May has 31 days\")\n",
    "if month==6:\n",
    "        print(\"June has 30 days\")\n",
    "if month==7:\n",
    "        print(\"July has 31 days\")\n",
    "if month==8:\n",
    "        print(\"August has 31 days\")\n",
    "if month==9:\n",
    "        print(\"September has 30 days\")\n",
    "if month==10:\n",
    "        print(\"October has 31 days\")\n",
    "if month==11:\n",
    "        print(\"November has 30 days\")\n",
    "if month==12:\n",
    "        print(\"December has 31 days\")"
   ]
  },
  {
   "cell_type": "code",
   "execution_count": null,
   "id": "c62bce05",
   "metadata": {},
   "outputs": [],
   "source": [
    "number = int(input(\"Enter any number: \"))\n",
    "\n",
    "if number > 1:\n",
    "    for i in range(2, number):\n",
    "        if (number % i) == 0:\n",
    "            print(number, \"is not a prime number\")\n",
    "            break\n",
    "    else:\n",
    "        print(number, \"is a prime number\")\n",
    "\n",
    "else:\n",
    "    print(number, \"is not a prime number\")"
   ]
  },
  {
   "cell_type": "code",
   "execution_count": null,
   "id": "477f2ddc",
   "metadata": {
    "scrolled": true
   },
   "outputs": [],
   "source": [
    "a = int(input(\"Enter first side : \"))\n",
    "b = int(input(\"Enter second side : \"))\n",
    "c = int(input(\"Enter third side : \"))\n",
    "\n",
    "if a == b and b == c :\n",
    "    print(\"Equilateral Triangle\")\n",
    "elif a == b or b == c or c == a:\n",
    "    print(\"Isosceles Triangle\")\n",
    "else :\n",
    "    print(\"Scalene Triangle\")"
   ]
  },
  {
   "cell_type": "code",
   "execution_count": 6,
   "id": "8122e020",
   "metadata": {},
   "outputs": [
    {
     "name": "stdout",
     "output_type": "stream",
     "text": [
      "Enter your age: 12\n",
      "Minor\n"
     ]
    }
   ],
   "source": [
    "age1=int(input(\"Enter your age: \"))\n",
    "\n",
    "if(age1<18):\n",
    "    print(\"Minor\")\n",
    "elif(age1<18):\n",
    "    print(\"Adult\")\n",
    "elif(age1<64):\n",
    "    print(\"Adult\")\n",
    "elif(age1>=65):\n",
    "    print(\"Senior Citizen\")"
   ]
  },
  {
   "cell_type": "code",
   "execution_count": null,
   "id": "2a4566f5",
   "metadata": {},
   "outputs": [],
   "source": []
  }
 ],
 "metadata": {
  "kernelspec": {
   "display_name": "Python 3 (ipykernel)",
   "language": "python",
   "name": "python3"
  },
  "language_info": {
   "codemirror_mode": {
    "name": "ipython",
    "version": 3
   },
   "file_extension": ".py",
   "mimetype": "text/x-python",
   "name": "python",
   "nbconvert_exporter": "python",
   "pygments_lexer": "ipython3",
   "version": "3.9.13"
  }
 },
 "nbformat": 4,
 "nbformat_minor": 5
}
